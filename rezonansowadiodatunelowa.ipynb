{
 "cells": [
  {
   "cell_type": "code",
   "execution_count": 13,
   "id": "smoking-ensemble",
   "metadata": {},
   "outputs": [],
   "source": [
    "import numpy as np\n",
    "import matplotlib.pyplot as plt\n",
    "import kwant\n",
    "import scipy.linalg as la\n",
    "from scipy.constants import physical_constants"
   ]
  },
  {
   "cell_type": "code",
   "execution_count": 14,
   "id": "baking-violence",
   "metadata": {},
   "outputs": [],
   "source": [
    "h_bar = physical_constants['Planck constant over 2 pi'][0]\n",
    "h_bar_eV = physical_constants['Planck constant over 2 pi in eV s'][0]\n",
    "m_el = physical_constants['electron mass'][0]\n",
    "eV = physical_constants['electron volt'][0]"
   ]
  },
  {
   "cell_type": "code",
   "execution_count": 15,
   "id": "national-programmer",
   "metadata": {},
   "outputs": [
    {
     "name": "stdout",
     "output_type": "stream",
     "text": [
      "0.03809981988649954\n"
     ]
    }
   ],
   "source": [
    "a = 1.0e-9\n",
    "a_nm  = a*10**9\n",
    "N = 100\n",
    "\n",
    "t = (h_bar ** 2)/(2 * m_el * a * a)/eV\n",
    "print(t)"
   ]
  },
  {
   "cell_type": "code",
   "execution_count": 16,
   "id": "internal-collection",
   "metadata": {},
   "outputs": [],
   "source": [
    "sys = kwant.Builder()\n",
    "lat = kwant.lattice.chain(a_nm)"
   ]
  },
  {
   "cell_type": "code",
   "execution_count": 17,
   "id": "religious-jersey",
   "metadata": {},
   "outputs": [
    {
     "data": {
      "image/png": "[encoded data removed]",
      "text/plain": [
       "<Figure size 432x288 with 1 Axes>"
      ]
     },
     "metadata": {
      "needs_background": "light"
     },
     "output_type": "display_data"
    }
   ],
   "source": [
    "def onsite(site, xb1, xb2, Ub, Lb):\n",
    "    (x,) = site.pos\n",
    "    if((xb1 - Lb/2) < x < (xb1 + Lb/2) or (xb2 - Lb/2) < x < (xb2 + Lb/2)):\n",
    "        return 2*t + Ub\n",
    "    else:\n",
    "        return 2*t\n",
    "\n",
    "for i in range(N):\n",
    "    sys[lat(i)] = onsite\n",
    "    \n",
    "sys[lat.neighbors()] = -t\n",
    "\n",
    "leadl = kwant.Builder(kwant.TranslationalSymmetry((-a_nm,)))\n",
    "leadl[lat(0)] = 2*t\n",
    "leadl[lat.neighbors()] = -t\n",
    "\n",
    "leadr = kwant.Builder(kwant.TranslationalSymmetry((a_nm,)))\n",
    "leadr[lat(0)] = 2*t\n",
    "leadr[lat.neighbors()] = -t\n",
    "\n",
    "sys.attach_lead(leadl)\n",
    "sys.attach_lead(leadr)\n",
    "\n",
    "kwant.plot(sys);"
   ]
  },
  {
   "cell_type": "code",
   "execution_count": 18,
   "id": "whole-palmer",
   "metadata": {},
   "outputs": [
    {
     "data": {
      "image/png": "[encoded data removed]",
      "text/plain": [
       "<Figure size 432x288 with 1 Axes>"
      ]
     },
     "metadata": {
      "needs_background": "light"
     },
     "output_type": "display_data"
    }
   ],
   "source": [
    "xb1 = 43\n",
    "xb2 = 57\n",
    "Lb = 4\n",
    "Ub = 0.5*t\n",
    "sysf = sys.finalized()\n",
    "kwant.plot(sysf, site_color = lambda site: sysf.hamiltonian(site, site, params = dict(xb1 = xb1, xb2 = xb2, Ub=Ub, Lb=Lb)), colorbar = False);"
   ]
  },
  {
   "cell_type": "code",
   "execution_count": 19,
   "id": "measured-portugal",
   "metadata": {},
   "outputs": [],
   "source": [
    "def calc_transmission(syst, ene, xb1, xb2, Ub, Lb):\n",
    "    smatrix = kwant.smatrix(syst, ene, params = dict(xb1=xb1, xb2=xb2, Lb=Lb, Ub=Ub))\n",
    "    return smatrix.transmission(1,0)"
   ]
  },
  {
   "cell_type": "code",
   "execution_count": 20,
   "id": "unable-barcelona",
   "metadata": {},
   "outputs": [],
   "source": [
    "Emin = 0.0001\n",
    "Emax = 2*Ub\n",
    "NE = 600\n",
    "\n",
    "Etab = np.linspace(Emin, Emax, NE)\n",
    "Ttab = np.zeros(NE)\n",
    "for i in range(NE):\n",
    "    Ttab[i] = calc_transmission(sysf, Etab[i], xb1, xb2, Ub, Lb)"
   ]
  },
  {
   "cell_type": "code",
   "execution_count": 21,
   "id": "connected-subscriber",
   "metadata": {},
   "outputs": [
    {
     "data": {
      "image/png": "[encoded data removed]",
      "text/plain": [
       "<Figure size 432x288 with 1 Axes>"
      ]
     },
     "metadata": {
      "needs_background": "light"
     },
     "output_type": "display_data"
    }
   ],
   "source": [
    "plt.plot(Etab, Ttab);"
   ]
  },
  {
   "cell_type": "code",
   "execution_count": 22,
   "id": "controlling-telling",
   "metadata": {},
   "outputs": [],
   "source": [
    "from ipywidgets import interact"
   ]
  },
  {
   "cell_type": "code",
   "execution_count": 23,
   "id": "referenced-internet",
   "metadata": {},
   "outputs": [],
   "source": [
    "def plot_wf(i=0):\n",
    "    ene = Emin + i*(Emax-Emin)/NE\n",
    "    print(\"E = \", ene)\n",
    "    wf = kwant.solvers.default.wave_function(sysf, ene, params = dict(xb1 = xb1, xb2 = xb2, Lb = Lb, Ub = Ub))\n",
    "    plt.plot(np.abs(wf(0)[0])**2)\n",
    "    plt.grid()"
   ]
  },
  {
   "cell_type": "code",
   "execution_count": 24,
   "id": "utility-bookmark",
   "metadata": {},
   "outputs": [
    {
     "data": {
      "application/vnd.jupyter.widget-view+json": {
       "model_id": "e4a1b7d1a8394feb961f9f155030d886",
       "version_major": 2,
       "version_minor": 0
      },
      "text/plain": [
       "interactive(children=(IntSlider(value=0, description='i', max=600), Output()), _dom_classes=('widget-interact'…"
      ]
     },
     "metadata": {},
     "output_type": "display_data"
    },
    {
     "data": {
      "text/plain": [
       "<function __main__.plot_wf(i=0)>"
      ]
     },
     "execution_count": 24,
     "metadata": {},
     "output_type": "execute_result"
    }
   ],
   "source": [
    "interact(plot_wf, i = (0, NE))"
   ]
  },
  {
   "cell_type": "code",
   "execution_count": null,
   "id": "tested-organizer",
   "metadata": {},
   "outputs": [],
   "source": []
  }
 ],
 "metadata": {
  "kernelspec": {
   "display_name": "pykwant2021",
   "language": "python",
   "name": "pykwant2021"
  },
  "language_info": {
   "codemirror_mode": {
    "name": "ipython",
    "version": 3
   },
   "file_extension": ".py",
   "mimetype": "text/x-python",
   "name": "python",
   "nbconvert_exporter": "python",
   "pygments_lexer": "ipython3",
   "version": "3.8.12"
  }
 },
 "nbformat": 4,
 "nbformat_minor": 5
}
