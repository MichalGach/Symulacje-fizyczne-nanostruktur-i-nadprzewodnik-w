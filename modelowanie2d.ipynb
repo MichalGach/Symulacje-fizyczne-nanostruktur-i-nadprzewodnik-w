{
 "cells": [
  {
   "cell_type": "code",
   "execution_count": 2,
   "id": "scheduled-muscle",
   "metadata": {},
   "outputs": [],
   "source": [
    "import numpy as np\n",
    "import matplotlib.pyplot as plt\n",
    "\n",
    "from scipy.constants import physical_constants"
   ]
  },
  {
   "cell_type": "code",
   "execution_count": 3,
   "id": "regular-florist",
   "metadata": {},
   "outputs": [],
   "source": [
    "h_bar = physical_constants['Planck constant over 2 pi'][0]\n",
    "m_el = physical_constants['electron mass'][0]\n",
    "eV_unit = physical_constants['electron volt'][0]"
   ]
  },
  {
   "cell_type": "code",
   "execution_count": 4,
   "id": "green-cherry",
   "metadata": {},
   "outputs": [
    {
     "name": "stdout",
     "output_type": "stream",
     "text": [
      "1e-09\n",
      "99\n",
      "1.0000000000000001e-07\n",
      "0.03809981988649954\n"
     ]
    }
   ],
   "source": [
    "a = 1.0 * 10 ** (-9)\n",
    "N = 99\n",
    "L = (N + 1) * a\n",
    "\n",
    "t = (h_bar ** 2)/(2 * m_el * a * a)\n",
    "t = t/eV_unit\n",
    "\n",
    "print(a)\n",
    "print(N)\n",
    "print(L)\n",
    "print(t)"
   ]
  },
  {
   "cell_type": "code",
   "execution_count": 5,
   "id": "specified-prayer",
   "metadata": {},
   "outputs": [],
   "source": [
    "M = np.zeros((N, N))\n",
    "\n",
    "for i in range(N):\n",
    "    M[i,i] = 2 * t\n",
    "    if(i < N - 1):\n",
    "        M[i+1, i] = -t\n",
    "        M[i, i+1] = -t"
   ]
  },
  {
   "cell_type": "code",
   "execution_count": 6,
   "id": "fifty-intranet",
   "metadata": {},
   "outputs": [
    {
     "name": "stdout",
     "output_type": "stream",
     "text": [
      "[[ 0.07619964 -0.03809982  0.         ...  0.          0.\n",
      "   0.        ]\n",
      " [-0.03809982  0.07619964 -0.03809982 ...  0.          0.\n",
      "   0.        ]\n",
      " [ 0.         -0.03809982  0.07619964 ...  0.          0.\n",
      "   0.        ]\n",
      " ...\n",
      " [ 0.          0.          0.         ...  0.07619964 -0.03809982\n",
      "   0.        ]\n",
      " [ 0.          0.          0.         ... -0.03809982  0.07619964\n",
      "  -0.03809982]\n",
      " [ 0.          0.          0.         ...  0.         -0.03809982\n",
      "   0.07619964]]\n"
     ]
    }
   ],
   "source": [
    "print(M)"
   ]
  },
  {
   "cell_type": "code",
   "execution_count": 7,
   "id": "tribal-economy",
   "metadata": {},
   "outputs": [],
   "source": [
    "ene, v = np.linalg.eigh(M)"
   ]
  },
  {
   "cell_type": "code",
   "execution_count": 8,
   "id": "stuffed-hybrid",
   "metadata": {},
   "outputs": [
    {
     "name": "stdout",
     "output_type": "stream",
     "text": [
      "[ 1  2  3  4  5  6  7  8  9 10 11 12 13 14 15 16 17 18 19 20 21 22 23 24\n",
      " 25 26 27 28 29 30 31 32 33 34 35 36 37 38 39 40 41 42 43 44 45 46 47 48\n",
      " 49 50 51 52 53 54 55 56 57 58 59 60 61 62 63 64 65 66 67 68 69 70 71 72\n",
      " 73 74 75 76 77 78 79 80 81 82 83 84 85 86 87 88 89 90 91 92 93 94 95 96\n",
      " 97 98 99]\n"
     ]
    }
   ],
   "source": [
    "ntab =  np.arange(1, N + 1)\n",
    "print(ntab)"
   ]
  },
  {
   "cell_type": "code",
   "execution_count": 9,
   "id": "continental-gregory",
   "metadata": {},
   "outputs": [
    {
     "data": {
      "text/plain": [
       "array([3.76030150e-05, 1.50412060e-04, 3.38427135e-04, 6.01648240e-04,\n",
       "       9.40075375e-04, 1.35370854e-03, 1.84254774e-03, 2.40659296e-03,\n",
       "       3.04584422e-03, 3.76030150e-03, 4.54996482e-03, 5.41483416e-03,\n",
       "       6.35490954e-03, 7.37019094e-03, 8.46067838e-03, 9.62637184e-03,\n",
       "       1.08672713e-02, 1.21833769e-02, 1.35746884e-02, 1.50412060e-02,\n",
       "       1.65829296e-02, 1.81998593e-02, 1.98919949e-02, 2.16593366e-02,\n",
       "       2.35018844e-02, 2.54196381e-02, 2.74125979e-02, 2.94807638e-02,\n",
       "       3.16241356e-02, 3.38427135e-02, 3.61364974e-02, 3.85054874e-02,\n",
       "       4.09496833e-02, 4.34690853e-02, 4.60636934e-02, 4.87335074e-02,\n",
       "       5.14785275e-02, 5.42987537e-02, 5.71941858e-02, 6.01648240e-02,\n",
       "       6.32106682e-02, 6.63317185e-02, 6.95279747e-02, 7.27994370e-02,\n",
       "       7.61461054e-02, 7.95679797e-02, 8.30650601e-02, 8.66373466e-02,\n",
       "       9.02848390e-02, 9.40075375e-02, 9.78054420e-02, 1.01678553e-01,\n",
       "       1.05626869e-01, 1.09650392e-01, 1.13749120e-01, 1.17923055e-01,\n",
       "       1.22172196e-01, 1.26496542e-01, 1.30896095e-01, 1.35370854e-01,\n",
       "       1.39920819e-01, 1.44545990e-01, 1.49246367e-01, 1.54021949e-01,\n",
       "       1.58872738e-01, 1.63798733e-01, 1.68799934e-01, 1.73876341e-01,\n",
       "       1.79027954e-01, 1.84254774e-01, 1.89556799e-01, 1.94934030e-01,\n",
       "       2.00386467e-01, 2.05914110e-01, 2.11516959e-01, 2.17195015e-01,\n",
       "       2.22948276e-01, 2.28776743e-01, 2.34680417e-01, 2.40659296e-01,\n",
       "       2.46713381e-01, 2.52842673e-01, 2.59047170e-01, 2.65326874e-01,\n",
       "       2.71681783e-01, 2.78111899e-01, 2.84617221e-01, 2.91197748e-01,\n",
       "       2.97853482e-01, 3.04584422e-01, 3.11390567e-01, 3.18271919e-01,\n",
       "       3.25228477e-01, 3.32260241e-01, 3.39367210e-01, 3.46549386e-01,\n",
       "       3.53806768e-01, 3.61139356e-01, 3.68547150e-01])"
      ]
     },
     "execution_count": 9,
     "metadata": {},
     "output_type": "execute_result"
    }
   ],
   "source": [
    "(t * ((np.pi) ** 2 * ntab ** 2))/((N + 1) ** 2)"
   ]
  },
  {
   "cell_type": "code",
   "execution_count": 10,
   "id": "appreciated-collectible",
   "metadata": {},
   "outputs": [],
   "source": [
    "def ene_n(n):\n",
    "    return (t * ((np.pi) ** 2 * n ** 2))/((N + 1) ** 2)"
   ]
  },
  {
   "cell_type": "code",
   "execution_count": 11,
   "id": "statutory-flour",
   "metadata": {},
   "outputs": [
    {
     "name": "stdout",
     "output_type": "stream",
     "text": [
      "3.760301500325077e-05\n"
     ]
    }
   ],
   "source": [
    "print(ene_n(1))"
   ]
  },
  {
   "cell_type": "code",
   "execution_count": 12,
   "id": "subsequent-spain",
   "metadata": {},
   "outputs": [
    {
     "name": "stdout",
     "output_type": "stream",
     "text": [
      "0.07380615124624926\n"
     ]
    }
   ],
   "source": [
    "print(ene[48])"
   ]
  },
  {
   "cell_type": "code",
   "execution_count": 13,
   "id": "attached-japan",
   "metadata": {},
   "outputs": [
    {
     "data": {
      "text/plain": [
       "[<matplotlib.lines.Line2D at 0x7fbafa4ae280>]"
      ]
     },
     "execution_count": 13,
     "metadata": {},
     "output_type": "execute_result"
    },
    {
     "data": {
      "image/png": "[encoded data removed]",
      "text/plain": [
       "<Figure size 432x288 with 1 Axes>"
      ]
     },
     "metadata": {
      "needs_background": "light"
     },
     "output_type": "display_data"
    }
   ],
   "source": [
    "plt.plot(ntab[:20], ene[:20], \"b.\");\n",
    "plt.plot(ntab[:20], ene_n(ntab)[:20], \"r.\")"
   ]
  },
  {
   "cell_type": "code",
   "execution_count": 14,
   "id": "available-ambassador",
   "metadata": {},
   "outputs": [
    {
     "name": "stdout",
     "output_type": "stream",
     "text": [
      "[ 0  1  2  3  4  5  6  7  8  9 10 11 12 13 14 15 16 17 18 19 20 21 22 23\n",
      " 24 25 26 27 28 29 30 31 32 33 34 35 36 37 38 39 40 41 42 43 44 45 46 47\n",
      " 48 49 50 51 52 53 54 55 56 57 58 59 60 61 62 63 64 65 66 67 68 69 70 71\n",
      " 72 73 74 75 76 77 78 79 80 81 82 83 84 85 86 87 88 89 90 91 92 93 94 95\n",
      " 96 97 98]\n"
     ]
    }
   ],
   "source": [
    "xtab = np.arange(N)\n",
    "print(xtab)"
   ]
  },
  {
   "cell_type": "code",
   "execution_count": 15,
   "id": "smart-minutes",
   "metadata": {},
   "outputs": [
    {
     "data": {
      "text/plain": [
       "array([0.00444215, 0.00887992, 0.01330893, 0.0177248 , 0.02212317,\n",
       "       0.02649972, 0.03085011, 0.03517006, 0.0394553 , 0.0437016 ,\n",
       "       0.04790478, 0.05206067, 0.05616519, 0.06021428, 0.06420395,\n",
       "       0.06813026, 0.07198933, 0.07577735, 0.07949059, 0.08312539,\n",
       "       0.08667815, 0.09014537, 0.09352362, 0.09680958, 0.1       ,\n",
       "       0.10309173, 0.10608172, 0.10896703, 0.11174479, 0.11441228,\n",
       "       0.11696686, 0.119406  , 0.1217273 , 0.12392848, 0.12600735,\n",
       "       0.12796187, 0.1297901 , 0.13149025, 0.13306063, 0.1344997 ,\n",
       "       0.13580604, 0.13697834, 0.13801547, 0.1389164 , 0.13968022,\n",
       "       0.14030621, 0.14079372, 0.14114229, 0.14135157, 0.14142136,\n",
       "       0.14135157, 0.14114229, 0.14079372, 0.14030621, 0.13968022,\n",
       "       0.1389164 , 0.13801547, 0.13697834, 0.13580604, 0.1344997 ,\n",
       "       0.13306063, 0.13149025, 0.1297901 , 0.12796187, 0.12600735,\n",
       "       0.12392848, 0.1217273 , 0.119406  , 0.11696686, 0.11441228,\n",
       "       0.11174479, 0.10896703, 0.10608172, 0.10309173, 0.1       ,\n",
       "       0.09680958, 0.09352362, 0.09014537, 0.08667815, 0.08312539,\n",
       "       0.07949059, 0.07577735, 0.07198933, 0.06813026, 0.06420395,\n",
       "       0.06021428, 0.05616519, 0.05206067, 0.04790478, 0.0437016 ,\n",
       "       0.0394553 , 0.03517006, 0.03085011, 0.02649972, 0.02212317,\n",
       "       0.0177248 , 0.01330893, 0.00887992, 0.00444215])"
      ]
     },
     "execution_count": 15,
     "metadata": {},
     "output_type": "execute_result"
    }
   ],
   "source": [
    "v[:,0]"
   ]
  },
  {
   "cell_type": "code",
   "execution_count": 16,
   "id": "deadly-switzerland",
   "metadata": {},
   "outputs": [
    {
     "data": {
      "text/plain": [
       "[<matplotlib.lines.Line2D at 0x7fbafa395520>]"
      ]
     },
     "execution_count": 16,
     "metadata": {},
     "output_type": "execute_result"
    },
    {
     "data": {
      "image/png": "[encoded data removed]",
      "text/plain": [
       "<Figure size 432x288 with 1 Axes>"
      ]
     },
     "metadata": {
      "needs_background": "light"
     },
     "output_type": "display_data"
    }
   ],
   "source": [
    "plt.plot(xtab, v[:,0])"
   ]
  },
  {
   "cell_type": "code",
   "execution_count": 19,
   "id": "second-luxembourg",
   "metadata": {},
   "outputs": [],
   "source": [
    "from ipywidgets import interact"
   ]
  },
  {
   "cell_type": "code",
   "execution_count": 20,
   "id": "comfortable-graduate",
   "metadata": {},
   "outputs": [
    {
     "data": {
      "application/vnd.jupyter.widget-view+json": {
       "model_id": "834e4572c9374ae6aacc2dd37e6558c5",
       "version_major": 2,
       "version_minor": 0
      },
      "text/plain": [
       "interactive(children=(IntSlider(value=1, description='n', max=60, min=1), Output()), _dom_classes=('widget-int…"
      ]
     },
     "metadata": {},
     "output_type": "display_data"
    },
    {
     "data": {
      "text/plain": [
       "<function __main__.plot_wt(n=1)>"
      ]
     },
     "execution_count": 20,
     "metadata": {},
     "output_type": "execute_result"
    }
   ],
   "source": [
    "interact(plot_wt, n=(1,60))"
   ]
  },
  {
   "cell_type": "code",
   "execution_count": null,
   "id": "moved-trade",
   "metadata": {},
   "outputs": [],
   "source": []
  }
 ],
 "metadata": {
  "kernelspec": {
   "display_name": "pykwant2021",
   "language": "python",
   "name": "pykwant2021"
  },
  "language_info": {
   "codemirror_mode": {
    "name": "ipython",
    "version": 3
   },
   "file_extension": ".py",
   "mimetype": "text/x-python",
   "name": "python",
   "nbconvert_exporter": "python",
   "pygments_lexer": "ipython3",
   "version": "3.8.12"
  }
 },
 "nbformat": 4,
 "nbformat_minor": 5
}
