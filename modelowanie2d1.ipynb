{
 "cells": [
  {
   "cell_type": "code",
   "execution_count": 1,
   "id": "interracial-decline",
   "metadata": {},
   "outputs": [],
   "source": [
    "import numpy as np\n",
    "import matplotlib.pyplot as plt\n",
    "import kwant\n",
    "\n",
    "from scipy.constants import physical_constants"
   ]
  },
  {
   "cell_type": "code",
   "execution_count": 2,
   "id": "dress-specialist",
   "metadata": {},
   "outputs": [],
   "source": [
    "h_bar = physical_constants['Planck constant over 2 pi'][0]\n",
    "m_el = physical_constants['electron mass'][0]\n",
    "eV_unit = physical_constants['electron volt'][0]"
   ]
  },
  {
   "cell_type": "code",
   "execution_count": 3,
   "id": "historic-anatomy",
   "metadata": {},
   "outputs": [
    {
     "name": "stdout",
     "output_type": "stream",
     "text": [
      "t =  0.03809981988649954\n",
      "L =  5.0000000000000004e-08\n"
     ]
    }
   ],
   "source": [
    "a = 1.0 * 10 ** (-9)\n",
    "a_nm = a * 10**(9)\n",
    "N = 49\n",
    "L = (N + 1) * a\n",
    "\n",
    "t_J = (h_bar ** 2)/(2 * m_el * a * a)\n",
    "t = t_J / eV_unit\n",
    "\n",
    "print(\"t = \", t)\n",
    "print(\"L = \", L)"
   ]
  },
  {
   "cell_type": "code",
   "execution_count": 4,
   "id": "attractive-cincinnati",
   "metadata": {},
   "outputs": [],
   "source": [
    "sys = kwant.Builder()\n",
    "lat = kwant.lattice.chain(a_nm)"
   ]
  },
  {
   "cell_type": "code",
   "execution_count": 5,
   "id": "israeli-antarctica",
   "metadata": {},
   "outputs": [],
   "source": [
    "def onsite(site, xb, Ub, Lb):\n",
    "    (x,) = site.pos\n",
    "    if(xb-Lb/2 < x < xb+Lb/2):\n",
    "        return 2*t + Ub\n",
    "    else:\n",
    "        return 2*t\n",
    "        \n",
    "\n",
    "for i in range(N):\n",
    "    sys[lat(i)] = onsite\n",
    "    if(i>0):\n",
    "        sys[lat(i - 1),lat(i)] = -t"
   ]
  },
  {
   "cell_type": "code",
   "execution_count": 6,
   "id": "hawaiian-cinema",
   "metadata": {},
   "outputs": [
    {
     "data": {
      "image/png": "[encoded data removed]",
      "text/plain": [
       "<Figure size 432x288 with 1 Axes>"
      ]
     },
     "metadata": {
      "needs_background": "light"
     },
     "output_type": "display_data"
    }
   ],
   "source": [
    "kwant.plot(sys);"
   ]
  },
  {
   "cell_type": "code",
   "execution_count": 7,
   "id": "impaired-stone",
   "metadata": {},
   "outputs": [],
   "source": [
    "sysf = sys.finalized()"
   ]
  },
  {
   "cell_type": "code",
   "execution_count": 8,
   "id": "designed-receiver",
   "metadata": {},
   "outputs": [
    {
     "data": {
      "image/png": "[encoded data removed]",
      "text/plain": [
       "<Figure size 432x288 with 1 Axes>"
      ]
     },
     "metadata": {
      "needs_background": "light"
     },
     "output_type": "display_data"
    }
   ],
   "source": [
    "xb1 = 24\n",
    "Ub1 = 0.5 * t\n",
    "Lb1 = 10\n",
    "kwant.plot(sysf, site_color = lambda site: sysf.hamiltonian(site, site, params = dict(xb=xb1, Ub=Ub1, Lb=Lb1)), colorbar = False);"
   ]
  },
  {
   "cell_type": "code",
   "execution_count": 9,
   "id": "drawn-montana",
   "metadata": {},
   "outputs": [],
   "source": [
    "ham = sysf.hamiltonian_submatrix(params = dict(xb=xb1, Ub=Ub1, Lb=Lb1))"
   ]
  },
  {
   "cell_type": "code",
   "execution_count": 10,
   "id": "regulation-attribute",
   "metadata": {},
   "outputs": [
    {
     "name": "stdout",
     "output_type": "stream",
     "text": [
      "[[ 0.07619964+0.j -0.03809982-0.j  0.        +0.j ...  0.        +0.j\n",
      "   0.        +0.j  0.        +0.j]\n",
      " [-0.03809982+0.j  0.07619964+0.j -0.03809982-0.j ...  0.        +0.j\n",
      "   0.        +0.j  0.        +0.j]\n",
      " [ 0.        +0.j -0.03809982+0.j  0.07619964+0.j ...  0.        +0.j\n",
      "   0.        +0.j  0.        +0.j]\n",
      " ...\n",
      " [ 0.        +0.j  0.        +0.j  0.        +0.j ...  0.07619964+0.j\n",
      "  -0.03809982-0.j  0.        +0.j]\n",
      " [ 0.        +0.j  0.        +0.j  0.        +0.j ... -0.03809982+0.j\n",
      "   0.07619964+0.j -0.03809982-0.j]\n",
      " [ 0.        +0.j  0.        +0.j  0.        +0.j ...  0.        +0.j\n",
      "  -0.03809982+0.j  0.07619964+0.j]]\n"
     ]
    }
   ],
   "source": [
    "print(ham)"
   ]
  },
  {
   "cell_type": "code",
   "execution_count": 11,
   "id": "freelance-monday",
   "metadata": {},
   "outputs": [],
   "source": [
    "ene, v = np.linalg.eigh(ham)"
   ]
  },
  {
   "cell_type": "code",
   "execution_count": 12,
   "id": "threaded-castle",
   "metadata": {},
   "outputs": [
    {
     "data": {
      "image/png": "[encoded data removed]",
      "text/plain": [
       "<Figure size 432x288 with 1 Axes>"
      ]
     },
     "metadata": {
      "needs_background": "light"
     },
     "output_type": "display_data"
    }
   ],
   "source": [
    "ntab  = np.arange(1, N  + 1)\n",
    "plt.plot(ntab[:10], ene[:10], \".\");"
   ]
  },
  {
   "cell_type": "code",
   "execution_count": 13,
   "id": "sticky-complaint",
   "metadata": {},
   "outputs": [],
   "source": [
    "from ipywidgets import interact"
   ]
  },
  {
   "cell_type": "code",
   "execution_count": 14,
   "id": "infinite-terrorism",
   "metadata": {},
   "outputs": [],
   "source": [
    "xtab = np.arange(1, N+1)\n",
    "def plot_wf(i = 1):\n",
    "    plt.plot(xtab, abs(v[:,i-1]) ** 2, \".\");"
   ]
  },
  {
   "cell_type": "code",
   "execution_count": 15,
   "id": "dependent-division",
   "metadata": {},
   "outputs": [
    {
     "data": {
      "application/vnd.jupyter.widget-view+json": {
       "model_id": "40a749eae98743eeb7912638d33aac72",
       "version_major": 2,
       "version_minor": 0
      },
      "text/plain": [
       "interactive(children=(IntSlider(value=1, description='i', max=10, min=1), Output()), _dom_classes=('widget-int…"
      ]
     },
     "metadata": {},
     "output_type": "display_data"
    },
    {
     "data": {
      "text/plain": [
       "<function __main__.plot_wf(i=1)>"
      ]
     },
     "execution_count": 15,
     "metadata": {},
     "output_type": "execute_result"
    }
   ],
   "source": [
    "interact(plot_wf, i=(1,10))"
   ]
  },
  {
   "cell_type": "code",
   "execution_count": null,
   "id": "faced-dublin",
   "metadata": {},
   "outputs": [],
   "source": []
  }
 ],
 "metadata": {
  "kernelspec": {
   "display_name": "pykwant2021",
   "language": "python",
   "name": "pykwant2021"
  },
  "language_info": {
   "codemirror_mode": {
    "name": "ipython",
    "version": 3
   },
   "file_extension": ".py",
   "mimetype": "text/x-python",
   "name": "python",
   "nbconvert_exporter": "python",
   "pygments_lexer": "ipython3",
   "version": "3.8.12"
  }
 },
 "nbformat": 4,
 "nbformat_minor": 5
}
