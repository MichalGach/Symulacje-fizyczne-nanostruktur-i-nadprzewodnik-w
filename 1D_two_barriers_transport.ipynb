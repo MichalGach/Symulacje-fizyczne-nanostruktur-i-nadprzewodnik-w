{
 "cells": [
  {
   "cell_type": "code",
   "id": "governing-bibliography",
   "metadata": {
    "ExecuteTime": {
     "end_time": "2024-11-18T11:08:45.457277Z",
     "start_time": "2024-11-18T11:08:45.426653Z"
    }
   },
   "source": [
    "import numpy as np\n",
    "import kwant\n",
    "from matplotlib import pyplot as plt\n",
    "\n",
    "import scipy.linalg as la\n",
    "from scipy.constants import physical_constants"
   ],
   "outputs": [
    {
     "ename": "ModuleNotFoundError",
     "evalue": "No module named 'numpy'",
     "output_type": "error",
     "traceback": [
      "\u001B[0;31m---------------------------------------------------------------------------\u001B[0m",
      "\u001B[0;31mModuleNotFoundError\u001B[0m                       Traceback (most recent call last)",
      "Cell \u001B[0;32mIn[2], line 1\u001B[0m\n\u001B[0;32m----> 1\u001B[0m \u001B[38;5;28;01mimport\u001B[39;00m \u001B[38;5;21;01mnumpy\u001B[39;00m \u001B[38;5;28;01mas\u001B[39;00m \u001B[38;5;21;01mnp\u001B[39;00m\n\u001B[1;32m      2\u001B[0m \u001B[38;5;28;01mimport\u001B[39;00m \u001B[38;5;21;01mkwant\u001B[39;00m\n\u001B[1;32m      3\u001B[0m \u001B[38;5;28;01mfrom\u001B[39;00m \u001B[38;5;21;01mmatplotlib\u001B[39;00m \u001B[38;5;28;01mimport\u001B[39;00m pyplot \u001B[38;5;28;01mas\u001B[39;00m plt\n",
      "\u001B[0;31mModuleNotFoundError\u001B[0m: No module named 'numpy'"
     ]
    }
   ],
   "execution_count": 2
  },
  {
   "cell_type": "code",
   "execution_count": 25,
   "id": "honest-medication",
   "metadata": {},
   "outputs": [],
   "source": [
    "h_bar = physical_constants['Planck constant over 2 pi'][0]\n",
    "h_bar_eV = physical_constants['Planck constant over 2 pi in eV s'][0]\n",
    "m_el = physical_constants['electron mass'][0]\n",
    "eV = physical_constants['electron volt'][0]"
   ]
  },
  {
   "cell_type": "code",
   "execution_count": 26,
   "id": "comparable-space",
   "metadata": {},
   "outputs": [
    {
     "name": "stdout",
     "output_type": "stream",
     "text": [
      "0.03809981988649954\n"
     ]
    }
   ],
   "source": [
    "a=1.0e-9\n",
    "a_nm = a*10**9\n",
    "N = 100\n",
    "\n",
    "t=(h_bar**2/(2*m_el*a**2))/eV\n",
    "print(t)"
   ]
  },
  {
   "cell_type": "code",
   "execution_count": 27,
   "id": "tender-psychiatry",
   "metadata": {},
   "outputs": [],
   "source": [
    "sys = kwant.Builder()\n",
    "lat = kwant.lattice.chain(a_nm)"
   ]
  },
  {
   "cell_type": "code",
   "execution_count": 28,
   "id": "radical-asbestos",
   "metadata": {},
   "outputs": [
    {
     "data": {
      "image/png": "[encoded data removed]",
      "text/plain": [
       "<Figure size 432x288 with 1 Axes>"
      ]
     },
     "metadata": {
      "needs_background": "light"
     },
     "output_type": "display_data"
    }
   ],
   "source": [
    "def onsite(site, xb1, xb2, Ub, Lb):\n",
    "    (x,) = site.pos\n",
    "    if( xb1-Lb/2 < x < xb1+Lb/2 or xb2-Lb/2 < x < xb2+Lb/2):\n",
    "        return 2*t + Ub\n",
    "    \n",
    "    return 2*t\n",
    "\n",
    "\n",
    "for i in range(N):\n",
    "    sys[lat(i)] = onsite\n",
    "    \n",
    "\n",
    "sys[lat.neighbors()] = -t\n",
    "\n",
    "\n",
    "leadl = kwant.Builder(kwant.TranslationalSymmetry((-a_nm,)))\n",
    "leadl[lat(0)] = 2*t\n",
    "leadl[lat.neighbors()] = -t\n",
    "\n",
    "leadr = leadl.reversed()\n",
    "\n",
    "sys.attach_lead(leadl)\n",
    "sys.attach_lead(leadr)\n",
    "\n",
    "    \n",
    "kwant.plot(sys);"
   ]
  },
  {
   "cell_type": "code",
   "execution_count": 29,
   "id": "relative-special",
   "metadata": {},
   "outputs": [],
   "source": [
    "sysf = sys.finalized()"
   ]
  },
  {
   "cell_type": "code",
   "execution_count": 30,
   "id": "modified-first",
   "metadata": {},
   "outputs": [
    {
     "data": {
      "image/png": "[encoded data removed]",
      "text/plain": [
       "<Figure size 432x288 with 1 Axes>"
      ]
     },
     "metadata": {
      "needs_background": "light"
     },
     "output_type": "display_data"
    }
   ],
   "source": [
    "xb1 = 43\n",
    "xb2 = 57\n",
    "Lb = 4\n",
    "Ub = 0.5*t\n",
    "kwant.plot(sysf, site_color=lambda site: sysf.hamiltonian(site,site, params=dict(xb1=xb1, xb2=xb2, Ub=Ub, Lb=Lb)),colorbar=False);"
   ]
  },
  {
   "cell_type": "code",
   "execution_count": 31,
   "id": "superior-friday",
   "metadata": {},
   "outputs": [],
   "source": [
    "def calc_transmission(syst, ene, xb1, xb2, Lb, Ub):\n",
    "    smatrix = kwant.smatrix(syst, ene, params=dict(xb1=xb1, xb2=xb2, Ub=Ub, Lb=Lb))\n",
    "    \n",
    "    return smatrix.transmission(1,0)\n",
    "    "
   ]
  },
  {
   "cell_type": "code",
   "execution_count": 37,
   "id": "eastern-savings",
   "metadata": {},
   "outputs": [],
   "source": [
    "NE = 800\n",
    "Emin = 0.0001\n",
    "Emax = 2*Ub\n",
    "\n",
    "Etab = np.linspace(Emin, Emax, NE)\n",
    "Ttab1 = np.zeros(NE)\n",
    "\n",
    "for i in range(NE):\n",
    "    Ttab1[i] =  calc_transmission(sysf, Etab[i], xb1, xb2, Lb, Ub)"
   ]
  },
  {
   "cell_type": "code",
   "execution_count": 38,
   "id": "strange-evening",
   "metadata": {},
   "outputs": [
    {
     "name": "stdout",
     "output_type": "stream",
     "text": [
      "Ub =  0.01904990994324977\n"
     ]
    },
    {
     "data": {
      "image/png": "[encoded data removed]",
      "text/plain": [
       "<Figure size 432x288 with 1 Axes>"
      ]
     },
     "metadata": {
      "needs_background": "light"
     },
     "output_type": "display_data"
    }
   ],
   "source": [
    "print(\"Ub = \", Ub)\n",
    "plt.plot(Etab, Ttab1, \"b.\");"
   ]
  },
  {
   "cell_type": "code",
   "execution_count": 39,
   "id": "focused-reference",
   "metadata": {},
   "outputs": [],
   "source": [
    "def plot_wf(i=0):\n",
    "    ene = Emin + i*(Emax-Emin)/NE\n",
    "    print(\"E = \", ene)\n",
    "    wf = kwant.solvers.default.wave_function(sysf, ene, params=dict(xb1=xb1, xb2=xb2, Ub=Ub, Lb=Lb))\n",
    "    plt.plot(np.abs(wf(0)[0])**2)\n",
    "    plt.grid()"
   ]
  },
  {
   "cell_type": "code",
   "execution_count": 40,
   "id": "tough-snowboard",
   "metadata": {},
   "outputs": [],
   "source": [
    "from ipywidgets import interact"
   ]
  },
  {
   "cell_type": "code",
   "execution_count": 41,
   "id": "adjusted-connection",
   "metadata": {},
   "outputs": [
    {
     "data": {
      "application/vnd.jupyter.widget-view+json": {
       "model_id": "a237d9fcd6fc46e78019e662d8debfe1",
       "version_major": 2,
       "version_minor": 0
      },
      "text/plain": [
       "interactive(children=(IntSlider(value=0, description='i', max=800), Output()), _dom_classes=('widget-interact'…"
      ]
     },
     "metadata": {},
     "output_type": "display_data"
    },
    {
     "data": {
      "text/plain": [
       "<function __main__.plot_wf(i=0)>"
      ]
     },
     "execution_count": 41,
     "metadata": {},
     "output_type": "execute_result"
    }
   ],
   "source": [
    "interact(plot_wf, i=(0,NE))"
   ]
  },
  {
   "cell_type": "code",
   "execution_count": null,
   "id": "stuffed-principal",
   "metadata": {},
   "outputs": [],
   "source": []
  }
 ],
 "metadata": {
  "kernelspec": {
   "display_name": "Python 3 (ipykernel)",
   "language": "python",
   "name": "python3"
  },
  "language_info": {
   "codemirror_mode": {
    "name": "ipython",
    "version": 3
   },
   "file_extension": ".py",
   "mimetype": "text/x-python",
   "name": "python",
   "nbconvert_exporter": "python",
   "pygments_lexer": "ipython3",
   "version": "3.8.12"
  }
 },
 "nbformat": 4,
 "nbformat_minor": 5
}
